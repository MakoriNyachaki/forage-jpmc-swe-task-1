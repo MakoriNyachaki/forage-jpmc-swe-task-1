{
 "cells": [
  {
   "cell_type": "code",
   "execution_count": 1,
   "id": "cc4ef06e-79db-424c-b498-7e0365512ad9",
   "metadata": {},
   "outputs": [
    {
     "name": "stdout",
     "output_type": "stream",
     "text": [
      "Collecting python-dateutil==2.8.2\n",
      "  Downloading python_dateutil-2.8.2-py2.py3-none-any.whl.metadata (8.2 kB)\n",
      "Requirement already satisfied: six>=1.5 in /home/makori/.config/jupyterlab-desktop/jlab_server/lib/python3.12/site-packages (from python-dateutil==2.8.2) (1.16.0)\n",
      "Downloading python_dateutil-2.8.2-py2.py3-none-any.whl (247 kB)\n",
      "Installing collected packages: python-dateutil\n",
      "  Attempting uninstall: python-dateutil\n",
      "    Found existing installation: python-dateutil 2.9.0\n",
      "    Uninstalling python-dateutil-2.9.0:\n",
      "      Successfully uninstalled python-dateutil-2.9.0\n",
      "Successfully installed python-dateutil-2.8.2\n"
     ]
    }
   ],
   "source": [
    "!pip install python-dateutil==2.8.2"
   ]
  },
  {
   "cell_type": "code",
   "execution_count": null,
   "id": "f255632a-47c3-40a6-a567-29faf2c9d247",
   "metadata": {},
   "outputs": [],
   "source": []
  }
 ],
 "metadata": {
  "kernelspec": {
   "display_name": "Python 3 (ipykernel)",
   "language": "python",
   "name": "python3"
  },
  "language_info": {
   "codemirror_mode": {
    "name": "ipython",
    "version": 3
   },
   "file_extension": ".py",
   "mimetype": "text/x-python",
   "name": "python",
   "nbconvert_exporter": "python",
   "pygments_lexer": "ipython3",
   "version": "3.12.5"
  }
 },
 "nbformat": 4,
 "nbformat_minor": 5
}
